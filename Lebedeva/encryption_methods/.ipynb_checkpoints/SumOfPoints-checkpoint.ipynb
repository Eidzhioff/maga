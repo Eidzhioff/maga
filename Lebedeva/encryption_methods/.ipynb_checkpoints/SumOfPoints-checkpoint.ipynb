{
 "cells": [
  {
   "cell_type": "code",
   "execution_count": 6,
   "id": "59a95544-4bcf-42d0-a477-8b33fdc42433",
   "metadata": {},
   "outputs": [
    {
     "data": {
      "text/plain": [
       "(10, 6)"
      ]
     },
     "execution_count": 6,
     "metadata": {},
     "output_type": "execute_result"
    }
   ],
   "source": [
    "def MIN(a, m):\n",
    "    for x in range(1, m):\n",
    "        if (a * x) % m == 1:\n",
    "            return x\n",
    "    return None\n",
    "\n",
    "def elliptic_curve_points(P, Q, a, p):\n",
    "    x1, y1 = P\n",
    "    x2, y2 = Q\n",
    "\n",
    "    if x1 == x2 and (y1 != y2 or y1 == 0):\n",
    "        return None\n",
    "\n",
    "    if P == Q: \n",
    "        if y1 == 0: \n",
    "            return None \n",
    "        s = (3 * x1**2 + a) * MIN(2 * y1, p) % p\n",
    "    else: \n",
    "        if x1 == x2:\n",
    "            return None\n",
    "        s = (y2 - y1) * MIN(x2 - x1, p) % p\n",
    "\n",
    "    x3 = (s**2 - x1 - x2) % p\n",
    "    y3 = (s * (x1 - x3) - y1) % p\n",
    "\n",
    "    return (x3, y3)\n",
    "\n",
    "a = 2\n",
    "p = 17\n",
    "P = (5, 1)\n",
    "Q = (6, 3)\n",
    "\n",
    "R = elliptic_curve_points(P, Q, 2, 17)\n",
    "R"
   ]
  }
 ],
 "metadata": {
  "kernelspec": {
   "display_name": "Python 3 (ipykernel)",
   "language": "python",
   "name": "python3"
  },
  "language_info": {
   "codemirror_mode": {
    "name": "ipython",
    "version": 3
   },
   "file_extension": ".py",
   "mimetype": "text/x-python",
   "name": "python",
   "nbconvert_exporter": "python",
   "pygments_lexer": "ipython3",
   "version": "3.12.6"
  }
 },
 "nbformat": 4,
 "nbformat_minor": 5
}
