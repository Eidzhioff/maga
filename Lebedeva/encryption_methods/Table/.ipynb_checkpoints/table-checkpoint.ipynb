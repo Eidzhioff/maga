{
 "cells": [
  {
   "cell_type": "markdown",
   "id": "551202ac-af84-4f4d-9fb5-10461808966c",
   "metadata": {},
   "source": [
    "## Imports"
   ]
  },
  {
   "cell_type": "code",
   "execution_count": 148,
   "id": "f6510313-f3bb-4ef9-8b31-fba6d5327c99",
   "metadata": {},
   "outputs": [],
   "source": [
    "import numpy as np"
   ]
  },
  {
   "cell_type": "markdown",
   "id": "053e481c-d746-45d5-b1dd-09bba84faeab",
   "metadata": {},
   "source": [
    "## Functions"
   ]
  },
  {
   "cell_type": "code",
   "execution_count": 149,
   "id": "ab65fc23-7249-4017-a60d-1e806cd95d91",
   "metadata": {},
   "outputs": [],
   "source": [
    "def encrypt(str_to_code,key_str,key_col):\n",
    "    \n",
    "    grid = np.array_split(list(str_to_code.lower()), 5)\n",
    "    new_grid = []\n",
    "    \n",
    "    grid_new_str = [grid[i] for i in key_str]\n",
    "    for i in grid_new_str:\n",
    "        new_grid_col = [i[j] for j in key_col]\n",
    "        new_grid.append(new_grid_col)\n",
    "\n",
    "    return ''.join([''.join(row) for row in new_grid])"
   ]
  },
  {
   "cell_type": "code",
   "execution_count": 150,
   "id": "0f7f7463-2819-40a2-850d-2763d25c1db2",
   "metadata": {},
   "outputs": [],
   "source": [
    "def to_decrypt(key):\n",
    "    \n",
    "    initial_key = [0] * len(key)\n",
    "    \n",
    "    for i,j in enumerate(key):\n",
    "        initial_key[j] = i\n",
    "        \n",
    "    return initial_key"
   ]
  },
  {
   "cell_type": "code",
   "execution_count": 151,
   "id": "e1c87c8a-4d62-432c-b575-ba1d26205970",
   "metadata": {},
   "outputs": [],
   "source": [
    "def decrypt(str_to_code,key_str,key_col):\n",
    "    return encrypt(str_to_code,to_decrypt(key_str),to_decrypt(key_col))"
   ]
  },
  {
   "cell_type": "markdown",
   "id": "fd5be571-3a98-41cb-be91-5e8bbf88ab77",
   "metadata": {},
   "source": [
    "## Application case"
   ]
  },
  {
   "cell_type": "code",
   "execution_count": 152,
   "id": "56f55d19-f5b6-4520-aede-501887ba5d23",
   "metadata": {},
   "outputs": [],
   "source": [
    "str_to_code = \"Двойная перестановка\""
   ]
  },
  {
   "cell_type": "code",
   "execution_count": 153,
   "id": "3627f457-652e-4ed9-b74c-1017002be0cf",
   "metadata": {},
   "outputs": [],
   "source": [
    "key_str = [2,0,1,3,4]\n",
    "key_col = [1,2,0,3]"
   ]
  },
  {
   "cell_type": "code",
   "execution_count": 154,
   "id": "e58cc014-4261-47bf-8862-9899f996d5af",
   "metadata": {},
   "outputs": [],
   "source": [
    "res = encrypt(str_to_code,key_str,key_col)"
   ]
  },
  {
   "cell_type": "code",
   "execution_count": 155,
   "id": "607cd34d-2aa0-40eb-90da-a97ae6d54d48",
   "metadata": {},
   "outputs": [
    {
     "data": {
      "text/plain": [
       "'ерпеводйаян таснвкоа'"
      ]
     },
     "execution_count": 155,
     "metadata": {},
     "output_type": "execute_result"
    }
   ],
   "source": [
    "res"
   ]
  },
  {
   "cell_type": "code",
   "execution_count": 156,
   "id": "9dce6232-7351-42a7-81b3-819700ab9722",
   "metadata": {},
   "outputs": [
    {
     "data": {
      "text/plain": [
       "'двойная перестановка'"
      ]
     },
     "execution_count": 156,
     "metadata": {},
     "output_type": "execute_result"
    }
   ],
   "source": [
    "decrypt(res,key_str,key_col)"
   ]
  }
 ],
 "metadata": {
  "kernelspec": {
   "display_name": "Python 3 (ipykernel)",
   "language": "python",
   "name": "python3"
  },
  "language_info": {
   "codemirror_mode": {
    "name": "ipython",
    "version": 3
   },
   "file_extension": ".py",
   "mimetype": "text/x-python",
   "name": "python",
   "nbconvert_exporter": "python",
   "pygments_lexer": "ipython3",
   "version": "3.10.2"
  }
 },
 "nbformat": 4,
 "nbformat_minor": 5
}
