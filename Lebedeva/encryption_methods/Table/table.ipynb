{
 "cells": [
  {
   "cell_type": "code",
   "execution_count": 1,
   "id": "f6510313-f3bb-4ef9-8b31-fba6d5327c99",
   "metadata": {},
   "outputs": [],
   "source": [
    "import numpy as np"
   ]
  },
  {
   "cell_type": "code",
   "execution_count": 46,
   "id": "704a0d8e-2773-4660-9fd1-585dc27f5aed",
   "metadata": {},
   "outputs": [],
   "source": [
    "english_alphabet = np.array(list(\"abcdefghiklmnopqrstuvwxyz\"))\n",
    "table = np.split(english_alphabet, 5)"
   ]
  },
  {
   "cell_type": "code",
   "execution_count": null,
   "id": "83bd4607-54e5-49f5-9890-88aa3f7d35d1",
   "metadata": {},
   "outputs": [],
   "source": [
    "#0002 0302"
   ]
  },
  {
   "cell_type": "code",
   "execution_count": 78,
   "id": "e31d75cc-48c5-4b3a-83f3-efe2763b1d13",
   "metadata": {},
   "outputs": [],
   "source": [
    "input_str = \"0002 0302\"\n",
    "try:\n",
    "    code = np.array([int(i) for i in list(input_str)])\n",
    "except ValueError:\n",
    "    None "
   ]
  },
  {
   "cell_type": "code",
   "execution_count": 79,
   "id": "bf035b24-280d-4244-806a-8ebcfe5a8091",
   "metadata": {},
   "outputs": [
    {
     "data": {
      "text/plain": [
       "array([0, 0, 0, 2, 0, 3, 0, 2])"
      ]
     },
     "execution_count": 79,
     "metadata": {},
     "output_type": "execute_result"
    }
   ],
   "source": [
    "code"
   ]
  },
  {
   "cell_type": "code",
   "execution_count": 66,
   "id": "027a6999-c422-4fb4-9f94-f882901479fc",
   "metadata": {},
   "outputs": [],
   "source": [
    "new_str = \"\"\n",
    "for i,j in np.split(code, len(code)/2):\n",
    "    new_str += new_str.join(table[i][j])"
   ]
  },
  {
   "cell_type": "code",
   "execution_count": 67,
   "id": "db76aa6a-0fdc-4d16-97cd-e6aa153831ed",
   "metadata": {},
   "outputs": [
    {
     "data": {
      "text/plain": [
       "'acdc'"
      ]
     },
     "execution_count": 67,
     "metadata": {},
     "output_type": "execute_result"
    }
   ],
   "source": [
    "new_str"
   ]
  }
 ],
 "metadata": {
  "kernelspec": {
   "display_name": "Python 3 (ipykernel)",
   "language": "python",
   "name": "python3"
  },
  "language_info": {
   "codemirror_mode": {
    "name": "ipython",
    "version": 3
   },
   "file_extension": ".py",
   "mimetype": "text/x-python",
   "name": "python",
   "nbconvert_exporter": "python",
   "pygments_lexer": "ipython3",
   "version": "3.12.6"
  }
 },
 "nbformat": 4,
 "nbformat_minor": 5
}
