{
 "cells": [
  {
   "cell_type": "markdown",
   "id": "20b8a9e7-9fbd-4cd1-b555-cdc90774af2c",
   "metadata": {},
   "source": [
    "## Imports"
   ]
  },
  {
   "cell_type": "code",
   "execution_count": 1,
   "id": "d9f321d0-32a4-4b0f-b7ff-ecdfa1c29297",
   "metadata": {},
   "outputs": [],
   "source": [
    "import random\n",
    "from math import gcd"
   ]
  },
  {
   "cell_type": "markdown",
   "id": "525c642e-ff93-41e1-9c38-0ded194738af",
   "metadata": {},
   "source": [
    "## Functions"
   ]
  },
  {
   "cell_type": "code",
   "execution_count": 2,
   "id": "58a35c95-5174-4d99-bb3d-afa5ef7b3ed6",
   "metadata": {},
   "outputs": [],
   "source": [
    "def MIN(a, m):\n",
    "    for x in range(1, m):\n",
    "        if (a * x) % m == 1:\n",
    "            return x\n",
    "    return None"
   ]
  },
  {
   "cell_type": "code",
   "execution_count": 3,
   "id": "6de740e7-3571-46d0-a528-6763e5fb71a1",
   "metadata": {},
   "outputs": [],
   "source": [
    "def keyGeneration(p,q):\n",
    "    n = p * q\n",
    "    phi = (p - 1) * (q - 1)\n",
    "    \n",
    "    e = 3\n",
    "    while gcd(e, phi) != 1:\n",
    "        e += 2\n",
    "\n",
    "    d = MIN(e, phi)\n",
    "    \n",
    "    return (e, n), (d, n)"
   ]
  },
  {
   "cell_type": "code",
   "execution_count": 4,
   "id": "c0667076-7816-442b-8a58-93e14b61d51b",
   "metadata": {},
   "outputs": [],
   "source": [
    "def encrypt(str_to_encrypt, public_key):\n",
    "    e, n = public_key\n",
    "    return pow(str_to_encrypt, e, n)"
   ]
  },
  {
   "cell_type": "code",
   "execution_count": 5,
   "id": "69535128-769e-4e36-8f8b-cfd24acb014c",
   "metadata": {},
   "outputs": [],
   "source": [
    "def decrypt(str_to_decrypt, private_key):\n",
    "    d, n = private_key\n",
    "    return pow(str_to_decrypt, d, n)"
   ]
  },
  {
   "cell_type": "markdown",
   "id": "1257187c-ef9a-4eba-82e3-7ddfcfe806b1",
   "metadata": {},
   "source": [
    "## Application case"
   ]
  },
  {
   "cell_type": "code",
   "execution_count": 7,
   "id": "e9672f74-f3ee-4e79-b8cd-1d6c7d7ff82c",
   "metadata": {},
   "outputs": [
    {
     "name": "stdout",
     "output_type": "stream",
     "text": [
      "Открытый ключ:  (3, 9173503)\n",
      "Закрытый ключ:  (6111579, 9173503)\n",
      "Исходное сообщение:  111111\n",
      "Зашифрованное сообщение:  4051753\n",
      "Расшифрованное сообщение:  111111\n"
     ]
    }
   ],
   "source": [
    "public_key, private_key = keyGeneration(3557,2579)\n",
    "str_to_encrypt = 111111\n",
    "encrypted = encrypt(str_to_encrypt, public_key)\n",
    "decrypted = decrypt(encrypted, private_key)\n",
    "\n",
    "print(\"Открытый ключ: \", public_key)\n",
    "print(\"Закрытый ключ: \", private_key)\n",
    "print(\"Исходное сообщение: \", str_to_encrypt)\n",
    "print(\"Зашифрованное сообщение: \", encrypted)\n",
    "print(\"Расшифрованное сообщение: \", decrypted)"
   ]
  }
 ],
 "metadata": {
  "kernelspec": {
   "display_name": "Python 3 (ipykernel)",
   "language": "python",
   "name": "python3"
  },
  "language_info": {
   "codemirror_mode": {
    "name": "ipython",
    "version": 3
   },
   "file_extension": ".py",
   "mimetype": "text/x-python",
   "name": "python",
   "nbconvert_exporter": "python",
   "pygments_lexer": "ipython3",
   "version": "3.11.9"
  }
 },
 "nbformat": 4,
 "nbformat_minor": 5
}
