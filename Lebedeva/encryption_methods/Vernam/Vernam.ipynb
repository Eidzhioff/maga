{
 "cells": [
  {
   "cell_type": "markdown",
   "id": "fa67654d-8901-4dbb-832c-694686d51906",
   "metadata": {},
   "source": [
    " # Шифр Вернама по модулю m"
   ]
  },
  {
   "cell_type": "markdown",
   "id": "f48643f6-9264-4707-b808-e55ac0fb1b7b",
   "metadata": {},
   "source": [
    "## Imports"
   ]
  },
  {
   "cell_type": "code",
   "execution_count": 30,
   "id": "e29387db-6a01-42a9-b83e-fb217da27bc9",
   "metadata": {},
   "outputs": [],
   "source": [
    "import numpy as np"
   ]
  },
  {
   "cell_type": "markdown",
   "id": "c84a0eb9-eb3d-4471-a492-0e3964fa2285",
   "metadata": {},
   "source": [
    "## Functions"
   ]
  },
  {
   "cell_type": "code",
   "execution_count": 31,
   "id": "2fd61103-3883-491e-a1b2-6e9d7e7acf1f",
   "metadata": {},
   "outputs": [],
   "source": [
    "def encrypt(string_to_crypt, key, m):\n",
    "\n",
    "    string_to_crypt = string_to_crypt.upper()\n",
    "    key = key.upper()\n",
    "    \n",
    "    list_string_to_crypt = list(string_to_crypt)\n",
    "\n",
    "    long = len(list_string_to_crypt) // len(key) + 1\n",
    "    long_key = list((key * long)[:len(list_string_to_crypt)])\n",
    "    \n",
    "    ASCII_str = [ord(i) - ord('A') for i in list_string_to_crypt]\n",
    "    ASCII_key = [ord(i) - ord('A') for i in long_key]\n",
    "    \n",
    "    New_ASCII = [(ASCII_str[i] + ASCII_key[i]) % m for i in range(len(ASCII_key))]\n",
    "    \n",
    "    chr_of_encrypt_str = [chr(i + ord('A')) for i in New_ASCII]\n",
    "    \n",
    "    res = ''.join([''.join(row) for row in chr_of_encrypt_str])\n",
    "\n",
    "    return res"
   ]
  },
  {
   "cell_type": "code",
   "execution_count": 32,
   "id": "8c87c1db-273c-4a69-84ea-6bdab0ad711e",
   "metadata": {},
   "outputs": [],
   "source": [
    "def decrypt(string_to_crypt, key, m):\n",
    "\n",
    "    string_to_crypt = string_to_crypt.upper()\n",
    "    key = key.upper()\n",
    "    \n",
    "    list_string_to_crypt = list(string_to_crypt)\n",
    "\n",
    "    long = len(list_string_to_crypt) // len(key) + 1\n",
    "    long_key = list((key * long)[:len(list_string_to_crypt)])\n",
    "    \n",
    "    ASCII_str = [ord(i) - ord('A') for i in list_string_to_crypt]\n",
    "    ASCII_key = [ord(i) - ord('A') for i in long_key]\n",
    "    \n",
    "    New_ASCII = [(ASCII_str[i] - ASCII_key[i] + m) % m for i in range(len(ASCII_key))]\n",
    "    \n",
    "    chr_of_encrypt_str = [chr(i + ord('A')) for i in New_ASCII]\n",
    "    \n",
    "    res = ''.join([''.join(row) for row in chr_of_encrypt_str])\n",
    "\n",
    "    return res"
   ]
  },
  {
   "cell_type": "markdown",
   "id": "553193ea-a97d-4f07-9b20-0b8160806099",
   "metadata": {},
   "source": [
    "## Application case"
   ]
  },
  {
   "cell_type": "markdown",
   "id": "e4f8c63a-3407-46d6-8096-66c2f7e9828e",
   "metadata": {},
   "source": [
    "Принцип работы\n",
    "* Каждому символу сообщения присваивается числовое значение (A=0, B=1, …, Z=25).\n",
    "* Для шифрования используется ключ той же длины, что и сообщение.\n",
    "* Каждый символ сообщения XOR-ится с соответствующим символом ключа.\n",
    "* Для дешифровки применяется та же операция XOR.\n",
    "* Строка для шифрования и ключ должны содержать только буквенные символы"
   ]
  },
  {
   "cell_type": "code",
   "execution_count": 42,
   "id": "47aa5cb9-fad1-495a-af8c-b87e7f74d074",
   "metadata": {},
   "outputs": [],
   "source": [
    "string_to_crypt = \"WhatgovernsthedestinyofhumanityintheworldIsitsomeinvisibleentityoralawliketheHandofGodhoveringovertheworldAttheveryleastitistrue thatmanhasnocontrolevenoverhisownwill\"\n",
    "key = \"berserk\""
   ]
  },
  {
   "cell_type": "code",
   "execution_count": 43,
   "id": "28f566e4-2d2c-4a93-9944-6c3ce9e511fe",
   "metadata": {},
   "outputs": [],
   "source": [
    "encrypt_str = encrypt(string_to_crypt, key, 26)\n",
    "decrypt_str = decrypt(encrypt_str, key, 26)"
   ]
  },
  {
   "cell_type": "code",
   "execution_count": 44,
   "id": "e9f9563e-dfe8-4d79-8043-12d579b9b0f3",
   "metadata": {},
   "outputs": [
    {
     "data": {
      "text/plain": [
       "('XLRLKFFFVEKXYOEIJLMEIPJYMQRXJXPARKRFAFJPUSTMKKSDOJRMAWZLMIVFXZDZSISPRGMMBWXYOIEEVSWQPHYGZVBJRXGZVBULVOSIVEEKLLVFFVPDIRCUMKAWKBVIKLLRDNEEZEJXPGFFXIYMIMWRFFFVYAWFGOAZDP',\n",
       " 'WHATGOVERNSTHEDESTINYOFHUMANITYINTHEWORLDISITSOMEINVISIBLEENTITYORALAWLIKETHEHANDOFGODHOVERINGOVERTHEWORLDATTHEVERYLEASTITISTRUETTHATMANHASNOCONTROLEVENOVERHISOWNWILL')"
      ]
     },
     "execution_count": 44,
     "metadata": {},
     "output_type": "execute_result"
    }
   ],
   "source": [
    "encrypt_str, decrypt_str"
   ]
  }
 ],
 "metadata": {
  "kernelspec": {
   "display_name": "Python 3 (ipykernel)",
   "language": "python",
   "name": "python3"
  },
  "language_info": {
   "codemirror_mode": {
    "name": "ipython",
    "version": 3
   },
   "file_extension": ".py",
   "mimetype": "text/x-python",
   "name": "python",
   "nbconvert_exporter": "python",
   "pygments_lexer": "ipython3",
   "version": "3.10.2"
  }
 },
 "nbformat": 4,
 "nbformat_minor": 5
}
