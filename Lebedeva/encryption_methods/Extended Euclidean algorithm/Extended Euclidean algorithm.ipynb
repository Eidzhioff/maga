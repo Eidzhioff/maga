{
 "cells": [
  {
   "cell_type": "markdown",
   "id": "dc3669b6-568b-419c-875d-d1d41a661197",
   "metadata": {},
   "source": [
    "## Functions"
   ]
  },
  {
   "cell_type": "code",
   "execution_count": 1,
   "id": "0f97a782-f502-4c76-98bb-4f3f59c6560e",
   "metadata": {},
   "outputs": [],
   "source": [
    "def extended_gcd(a, b):\n",
    "    if b == 0:\n",
    "        return a, 1, 0\n",
    "    else:\n",
    "        gcd, x1, y1 = extended_gcd(b, a % b)\n",
    "        x = y1\n",
    "        y = x1 - (a // b) * y1\n",
    "        return gcd, x, y"
   ]
  },
  {
   "cell_type": "markdown",
   "id": "fde1a8b2-c24c-4a25-b3f7-df5500b8bb52",
   "metadata": {},
   "source": [
    "## Application case"
   ]
  },
  {
   "cell_type": "code",
   "execution_count": 7,
   "id": "b4d19599-43e9-4424-affa-a9a93c3058a7",
   "metadata": {},
   "outputs": [],
   "source": [
    "a, b = 56, 98\n",
    "gcd, x, y = extended_gcd(a, b)"
   ]
  },
  {
   "cell_type": "code",
   "execution_count": 8,
   "id": "b76caf84-248f-4e85-b37a-9e881dbf871b",
   "metadata": {},
   "outputs": [
    {
     "data": {
      "text/plain": [
       "(14, 2, -1)"
      ]
     },
     "execution_count": 8,
     "metadata": {},
     "output_type": "execute_result"
    }
   ],
   "source": [
    "gcd, x , y"
   ]
  }
 ],
 "metadata": {
  "kernelspec": {
   "display_name": "Python 3 (ipykernel)",
   "language": "python",
   "name": "python3"
  },
  "language_info": {
   "codemirror_mode": {
    "name": "ipython",
    "version": 3
   },
   "file_extension": ".py",
   "mimetype": "text/x-python",
   "name": "python",
   "nbconvert_exporter": "python",
   "pygments_lexer": "ipython3",
   "version": "3.12.6"
  }
 },
 "nbformat": 4,
 "nbformat_minor": 5
}
